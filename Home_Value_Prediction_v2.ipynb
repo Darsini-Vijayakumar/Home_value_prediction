{
 "cells": [
  {
   "cell_type": "markdown",
   "id": "d136d5be",
   "metadata": {},
   "source": [
    "# Home Value Prediction"
   ]
  },
  {
   "cell_type": "markdown",
   "id": "94ab8255",
   "metadata": {},
   "source": [
    "### Problem Description"
   ]
  },
  {
   "cell_type": "markdown",
   "id": "bd30ed82",
   "metadata": {},
   "source": [
    "West Roxbury is a neighborhood in Boston, Massachusetts. The homes (specifically, single family homes) in\n",
    "West Roxbury are frequently assessed by the City of Boston. An assessment\n",
    "of a home takes many variables into consideration such as the year it was built, the square footage, the lot\n",
    "size, etc. The final output of an assessment is a “total value” of the property, which is typically used to\n",
    "calculate the property taxes that the owner must pay each year. WestRoxbury unprocessed.csv which contains data related to\n",
    "the assessed values of over 5,000 homes in West Roxbury from the 2014 assessment period. \n",
    "\n",
    "In this project I have preprocessed the data, and then developed a linear regression model to predict the “total value” of\n",
    "homes. "
   ]
  },
  {
   "cell_type": "markdown",
   "id": "d6442cca",
   "metadata": {},
   "source": [
    "### Data Dictionary"
   ]
  },
  {
   "cell_type": "markdown",
   "id": "3748e9d8",
   "metadata": {},
   "source": [
    "1. TOTAL VALUE: Total assessed value for property, in thousands of USD\n",
    "2. LOT SQFT: Total lot size of parcel in square feet\n",
    "3. YR BUILT: Year property was built\n",
    "4. LIVING AREA: Total living area in square feet\n",
    "5. FLOORS: Number of floors in the home (i.e., levels in the home)\n",
    "6. ROOMS: Total number of rooms\n",
    "7. BEDROOMS: Total number of bedrooms\n",
    "8. FULL BATH: Total number of full baths\n",
    "9. HALF BATH: Total number of half baths\n",
    "10. KITCHEN: Total number of kitchens\n",
    "11. FIREPLACE: Total number of fireplaces\n",
    "12. REMODEL: When house was remodeled (Recent/Old/None)"
   ]
  },
  {
   "cell_type": "markdown",
   "id": "ccb8f880",
   "metadata": {},
   "source": [
    "## Part 1: Exploratory Analysis and Visualization"
   ]
  },
  {
   "cell_type": "code",
   "execution_count": 2,
   "id": "8731bc70",
   "metadata": {},
   "outputs": [],
   "source": [
    "import numpy as np\n",
    "import pandas as pd"
   ]
  },
  {
   "cell_type": "code",
   "execution_count": 13,
   "id": "eccac83f",
   "metadata": {},
   "outputs": [],
   "source": [
    "# loading data file and converting to a pandas dataframe\n",
    "\n",
    "homes_df = pd.read_csv('WestRoxbury_unprocessed.csv')"
   ]
  },
  {
   "cell_type": "markdown",
   "id": "b02d1b1c",
   "metadata": {},
   "source": [
    "### Basic Exploratory Analysis"
   ]
  },
  {
   "cell_type": "code",
   "execution_count": 14,
   "id": "a3151241",
   "metadata": {},
   "outputs": [
    {
     "data": {
      "text/html": [
       "<div>\n",
       "<style scoped>\n",
       "    .dataframe tbody tr th:only-of-type {\n",
       "        vertical-align: middle;\n",
       "    }\n",
       "\n",
       "    .dataframe tbody tr th {\n",
       "        vertical-align: top;\n",
       "    }\n",
       "\n",
       "    .dataframe thead th {\n",
       "        text-align: right;\n",
       "    }\n",
       "</style>\n",
       "<table border=\"1\" class=\"dataframe\">\n",
       "  <thead>\n",
       "    <tr style=\"text-align: right;\">\n",
       "      <th></th>\n",
       "      <th>TOTAL_VALUE</th>\n",
       "      <th>LOT_SQFT</th>\n",
       "      <th>YR_BUILT</th>\n",
       "      <th>LIVING_AREA</th>\n",
       "      <th>FLOORS</th>\n",
       "      <th>ROOMS</th>\n",
       "      <th>BEDROOMS</th>\n",
       "      <th>FULL_BATH</th>\n",
       "      <th>HALF_BATH</th>\n",
       "      <th>KITCHEN</th>\n",
       "      <th>FIREPLACE</th>\n",
       "      <th>REMODEL</th>\n",
       "    </tr>\n",
       "  </thead>\n",
       "  <tbody>\n",
       "    <tr>\n",
       "      <th>0</th>\n",
       "      <td>344.2</td>\n",
       "      <td>9965.0</td>\n",
       "      <td>1880</td>\n",
       "      <td>1352.0</td>\n",
       "      <td>2.0</td>\n",
       "      <td>6</td>\n",
       "      <td>3</td>\n",
       "      <td>1</td>\n",
       "      <td>1</td>\n",
       "      <td>1</td>\n",
       "      <td>0</td>\n",
       "      <td>None</td>\n",
       "    </tr>\n",
       "    <tr>\n",
       "      <th>1</th>\n",
       "      <td>412.6</td>\n",
       "      <td>6590.0</td>\n",
       "      <td>1945</td>\n",
       "      <td>1976.0</td>\n",
       "      <td>2.0</td>\n",
       "      <td>10</td>\n",
       "      <td>4</td>\n",
       "      <td>2</td>\n",
       "      <td>1</td>\n",
       "      <td>1</td>\n",
       "      <td>0</td>\n",
       "      <td>Recent</td>\n",
       "    </tr>\n",
       "    <tr>\n",
       "      <th>2</th>\n",
       "      <td>330.1</td>\n",
       "      <td>7500.0</td>\n",
       "      <td>1890</td>\n",
       "      <td>1371.0</td>\n",
       "      <td>2.0</td>\n",
       "      <td>8</td>\n",
       "      <td>4</td>\n",
       "      <td>1</td>\n",
       "      <td>1</td>\n",
       "      <td>1</td>\n",
       "      <td>0</td>\n",
       "      <td>None</td>\n",
       "    </tr>\n",
       "    <tr>\n",
       "      <th>3</th>\n",
       "      <td>498.6</td>\n",
       "      <td>13773.0</td>\n",
       "      <td>1957</td>\n",
       "      <td>2608.0</td>\n",
       "      <td>1.0</td>\n",
       "      <td>9</td>\n",
       "      <td>5</td>\n",
       "      <td>1</td>\n",
       "      <td>1</td>\n",
       "      <td>1</td>\n",
       "      <td>1</td>\n",
       "      <td>None</td>\n",
       "    </tr>\n",
       "    <tr>\n",
       "      <th>4</th>\n",
       "      <td>331.5</td>\n",
       "      <td>5000.0</td>\n",
       "      <td>1910</td>\n",
       "      <td>1438.0</td>\n",
       "      <td>2.0</td>\n",
       "      <td>7</td>\n",
       "      <td>3</td>\n",
       "      <td>2</td>\n",
       "      <td>0</td>\n",
       "      <td>1</td>\n",
       "      <td>0</td>\n",
       "      <td>None</td>\n",
       "    </tr>\n",
       "    <tr>\n",
       "      <th>...</th>\n",
       "      <td>...</td>\n",
       "      <td>...</td>\n",
       "      <td>...</td>\n",
       "      <td>...</td>\n",
       "      <td>...</td>\n",
       "      <td>...</td>\n",
       "      <td>...</td>\n",
       "      <td>...</td>\n",
       "      <td>...</td>\n",
       "      <td>...</td>\n",
       "      <td>...</td>\n",
       "      <td>...</td>\n",
       "    </tr>\n",
       "    <tr>\n",
       "      <th>5797</th>\n",
       "      <td>404.8</td>\n",
       "      <td>6762.0</td>\n",
       "      <td>1938</td>\n",
       "      <td>1714.0</td>\n",
       "      <td>2.0</td>\n",
       "      <td>9</td>\n",
       "      <td>3</td>\n",
       "      <td>2</td>\n",
       "      <td>1</td>\n",
       "      <td>1</td>\n",
       "      <td>1</td>\n",
       "      <td>Recent</td>\n",
       "    </tr>\n",
       "    <tr>\n",
       "      <th>5798</th>\n",
       "      <td>407.9</td>\n",
       "      <td>9408.0</td>\n",
       "      <td>1950</td>\n",
       "      <td>1333.0</td>\n",
       "      <td>2.0</td>\n",
       "      <td>6</td>\n",
       "      <td>3</td>\n",
       "      <td>1</td>\n",
       "      <td>1</td>\n",
       "      <td>1</td>\n",
       "      <td>1</td>\n",
       "      <td>None</td>\n",
       "    </tr>\n",
       "    <tr>\n",
       "      <th>5799</th>\n",
       "      <td>406.5</td>\n",
       "      <td>7198.0</td>\n",
       "      <td>1987</td>\n",
       "      <td>1674.0</td>\n",
       "      <td>2.0</td>\n",
       "      <td>7</td>\n",
       "      <td>3</td>\n",
       "      <td>1</td>\n",
       "      <td>1</td>\n",
       "      <td>1</td>\n",
       "      <td>1</td>\n",
       "      <td>None</td>\n",
       "    </tr>\n",
       "    <tr>\n",
       "      <th>5800</th>\n",
       "      <td>308.7</td>\n",
       "      <td>6890.0</td>\n",
       "      <td>1946</td>\n",
       "      <td>1000.0</td>\n",
       "      <td>1.0</td>\n",
       "      <td>5</td>\n",
       "      <td>2</td>\n",
       "      <td>1</td>\n",
       "      <td>0</td>\n",
       "      <td>1</td>\n",
       "      <td>0</td>\n",
       "      <td>None</td>\n",
       "    </tr>\n",
       "    <tr>\n",
       "      <th>5801</th>\n",
       "      <td>447.6</td>\n",
       "      <td>7406.0</td>\n",
       "      <td>1950</td>\n",
       "      <td>1600.0</td>\n",
       "      <td>2.0</td>\n",
       "      <td>7</td>\n",
       "      <td>3</td>\n",
       "      <td>1</td>\n",
       "      <td>1</td>\n",
       "      <td>1</td>\n",
       "      <td>1</td>\n",
       "      <td>None</td>\n",
       "    </tr>\n",
       "  </tbody>\n",
       "</table>\n",
       "<p>5802 rows × 12 columns</p>\n",
       "</div>"
      ],
      "text/plain": [
       "      TOTAL_VALUE  LOT_SQFT  YR_BUILT  LIVING_AREA  FLOORS  ROOMS  BEDROOMS  \\\n",
       "0           344.2    9965.0      1880       1352.0     2.0      6         3   \n",
       "1           412.6    6590.0      1945       1976.0     2.0     10         4   \n",
       "2           330.1    7500.0      1890       1371.0     2.0      8         4   \n",
       "3           498.6   13773.0      1957       2608.0     1.0      9         5   \n",
       "4           331.5    5000.0      1910       1438.0     2.0      7         3   \n",
       "...           ...       ...       ...          ...     ...    ...       ...   \n",
       "5797        404.8    6762.0      1938       1714.0     2.0      9         3   \n",
       "5798        407.9    9408.0      1950       1333.0     2.0      6         3   \n",
       "5799        406.5    7198.0      1987       1674.0     2.0      7         3   \n",
       "5800        308.7    6890.0      1946       1000.0     1.0      5         2   \n",
       "5801        447.6    7406.0      1950       1600.0     2.0      7         3   \n",
       "\n",
       "      FULL_BATH  HALF_BATH  KITCHEN  FIREPLACE REMODEL  \n",
       "0             1          1        1          0    None  \n",
       "1             2          1        1          0  Recent  \n",
       "2             1          1        1          0    None  \n",
       "3             1          1        1          1    None  \n",
       "4             2          0        1          0    None  \n",
       "...         ...        ...      ...        ...     ...  \n",
       "5797          2          1        1          1  Recent  \n",
       "5798          1          1        1          1    None  \n",
       "5799          1          1        1          1    None  \n",
       "5800          1          0        1          0    None  \n",
       "5801          1          1        1          1    None  \n",
       "\n",
       "[5802 rows x 12 columns]"
      ]
     },
     "execution_count": 14,
     "metadata": {},
     "output_type": "execute_result"
    }
   ],
   "source": [
    "# Exploring the raw data \n",
    "homes_df"
   ]
  },
  {
   "cell_type": "markdown",
   "id": "3771ec7c",
   "metadata": {},
   "source": [
    "The ‘TOTAL_VALUE’ column represents the target variable."
   ]
  },
  {
   "cell_type": "code",
   "execution_count": 15,
   "id": "03e4ce45",
   "metadata": {},
   "outputs": [
    {
     "data": {
      "text/plain": [
       "TOTAL_VALUE    float64\n",
       "LOT_SQFT       float64\n",
       "YR_BUILT         int64\n",
       "LIVING_AREA    float64\n",
       "FLOORS         float64\n",
       "ROOMS            int64\n",
       "BEDROOMS         int64\n",
       "FULL_BATH        int64\n",
       "HALF_BATH        int64\n",
       "KITCHEN          int64\n",
       "FIREPLACE        int64\n",
       "REMODEL         object\n",
       "dtype: object"
      ]
     },
     "execution_count": 15,
     "metadata": {},
     "output_type": "execute_result"
    }
   ],
   "source": [
    "# Identifying data types of each column\n",
    "homes_df.dtypes"
   ]
  },
  {
   "cell_type": "code",
   "execution_count": 28,
   "id": "e10db1b1",
   "metadata": {},
   "outputs": [
    {
     "name": "stdout",
     "output_type": "stream",
     "text": [
      "Number of rows: 5799\n",
      "Number of columns: 12\n"
     ]
    }
   ],
   "source": [
    "# Finding number of rows and columns using axes\n",
    "num_rows = homes_df.shape[0]\n",
    "num_cols = homes_df.shape[1]\n",
    "\n",
    "print('Number of rows:', num_rows)\n",
    "print('Number of columns:', num_cols)"
   ]
  },
  {
   "cell_type": "code",
   "execution_count": 17,
   "id": "02cda87a",
   "metadata": {},
   "outputs": [
    {
     "data": {
      "text/plain": [
       "TOTAL_VALUE    0\n",
       "LOT_SQFT       1\n",
       "YR_BUILT       0\n",
       "LIVING_AREA    2\n",
       "FLOORS         0\n",
       "ROOMS          0\n",
       "BEDROOMS       0\n",
       "FULL_BATH      0\n",
       "HALF_BATH      0\n",
       "KITCHEN        0\n",
       "FIREPLACE      0\n",
       "REMODEL        0\n",
       "dtype: int64"
      ]
     },
     "execution_count": 17,
     "metadata": {},
     "output_type": "execute_result"
    }
   ],
   "source": [
    "# checking for null values\n",
    "homes_df.isnull().sum()"
   ]
  },
  {
   "cell_type": "markdown",
   "id": "eb94c59a",
   "metadata": {},
   "source": [
    "There are 3 NA values in the given dataset.\n",
    "The ‘LOT_SQFT’ column has 1 NA value and ‘LIVING_ROOM’ column has 2 NA values."
   ]
  },
  {
   "cell_type": "code",
   "execution_count": 18,
   "id": "592c21d1",
   "metadata": {},
   "outputs": [
    {
     "data": {
      "text/plain": [
       "None      4346\n",
       "Recent     875\n",
       "Old        581\n",
       "Name: REMODEL, dtype: int64"
      ]
     },
     "execution_count": 18,
     "metadata": {},
     "output_type": "execute_result"
    }
   ],
   "source": [
    "# Analyzing the number of houses that have been \"Remodeled\"\n",
    "homes_df.REMODEL.value_counts()"
   ]
  },
  {
   "cell_type": "markdown",
   "id": "c02bb4f9",
   "metadata": {},
   "source": [
    "Out of the 5802 houses assessed, \n",
    "- 75% of the houses (4346) were not remodeled at all.\n",
    "- 15% of recent houses (875) were remodeled.\n",
    "- 10% of old houses (581) were remodeled."
   ]
  },
  {
   "cell_type": "code",
   "execution_count": 19,
   "id": "a8269569",
   "metadata": {},
   "outputs": [
    {
     "data": {
      "text/plain": [
       "7     1769\n",
       "6     1669\n",
       "8      936\n",
       "5      578\n",
       "9      450\n",
       "10     200\n",
       "4       71\n",
       "11      66\n",
       "12      45\n",
       "13      10\n",
       "14       5\n",
       "3        3\n",
       "Name: ROOMS, dtype: int64"
      ]
     },
     "execution_count": 19,
     "metadata": {},
     "output_type": "execute_result"
    }
   ],
   "source": [
    "# Analyzing the number of rooms in households\n",
    "homes_df.ROOMS.value_counts()"
   ]
  },
  {
   "cell_type": "markdown",
   "id": "0ee1d865",
   "metadata": {},
   "source": [
    "- 30% of the houses (1769) had 7 rooms followed by 29% with 6 rooms (1669)\n",
    "- 5 houses had 14 rooms (0.09%)"
   ]
  },
  {
   "cell_type": "code",
   "execution_count": 20,
   "id": "91ec5d6a",
   "metadata": {},
   "outputs": [
    {
     "data": {
      "text/html": [
       "<div>\n",
       "<style scoped>\n",
       "    .dataframe tbody tr th:only-of-type {\n",
       "        vertical-align: middle;\n",
       "    }\n",
       "\n",
       "    .dataframe tbody tr th {\n",
       "        vertical-align: top;\n",
       "    }\n",
       "\n",
       "    .dataframe thead th {\n",
       "        text-align: right;\n",
       "    }\n",
       "</style>\n",
       "<table border=\"1\" class=\"dataframe\">\n",
       "  <thead>\n",
       "    <tr style=\"text-align: right;\">\n",
       "      <th></th>\n",
       "      <th>LOT_SQFT</th>\n",
       "      <th>YR_BUILT</th>\n",
       "      <th>LIVING_AREA</th>\n",
       "      <th>FLOORS</th>\n",
       "      <th>ROOMS</th>\n",
       "      <th>BEDROOMS</th>\n",
       "      <th>FULL_BATH</th>\n",
       "      <th>HALF_BATH</th>\n",
       "      <th>KITCHEN</th>\n",
       "      <th>FIREPLACE</th>\n",
       "    </tr>\n",
       "  </thead>\n",
       "  <tbody>\n",
       "    <tr>\n",
       "      <th>LOT_SQFT</th>\n",
       "      <td>1.000000</td>\n",
       "      <td>-0.068903</td>\n",
       "      <td>0.426145</td>\n",
       "      <td>0.073640</td>\n",
       "      <td>0.308398</td>\n",
       "      <td>0.254094</td>\n",
       "      <td>0.201427</td>\n",
       "      <td>0.134947</td>\n",
       "      <td>0.044518</td>\n",
       "      <td>0.181910</td>\n",
       "    </tr>\n",
       "    <tr>\n",
       "      <th>YR_BUILT</th>\n",
       "      <td>-0.068903</td>\n",
       "      <td>1.000000</td>\n",
       "      <td>-0.131162</td>\n",
       "      <td>-0.190453</td>\n",
       "      <td>-0.144686</td>\n",
       "      <td>-0.130411</td>\n",
       "      <td>0.073706</td>\n",
       "      <td>0.060685</td>\n",
       "      <td>0.052091</td>\n",
       "      <td>0.087234</td>\n",
       "    </tr>\n",
       "    <tr>\n",
       "      <th>LIVING_AREA</th>\n",
       "      <td>0.426145</td>\n",
       "      <td>-0.131162</td>\n",
       "      <td>1.000000</td>\n",
       "      <td>0.475604</td>\n",
       "      <td>0.720688</td>\n",
       "      <td>0.641065</td>\n",
       "      <td>0.438143</td>\n",
       "      <td>0.300847</td>\n",
       "      <td>0.082799</td>\n",
       "      <td>0.261992</td>\n",
       "    </tr>\n",
       "    <tr>\n",
       "      <th>FLOORS</th>\n",
       "      <td>0.073640</td>\n",
       "      <td>-0.190453</td>\n",
       "      <td>0.475604</td>\n",
       "      <td>1.000000</td>\n",
       "      <td>0.432856</td>\n",
       "      <td>0.431242</td>\n",
       "      <td>0.112166</td>\n",
       "      <td>0.316142</td>\n",
       "      <td>-0.114602</td>\n",
       "      <td>0.120506</td>\n",
       "    </tr>\n",
       "    <tr>\n",
       "      <th>ROOMS</th>\n",
       "      <td>0.308398</td>\n",
       "      <td>-0.144686</td>\n",
       "      <td>0.720688</td>\n",
       "      <td>0.432856</td>\n",
       "      <td>1.000000</td>\n",
       "      <td>0.710693</td>\n",
       "      <td>0.378274</td>\n",
       "      <td>0.282655</td>\n",
       "      <td>0.129223</td>\n",
       "      <td>0.205223</td>\n",
       "    </tr>\n",
       "    <tr>\n",
       "      <th>BEDROOMS</th>\n",
       "      <td>0.254094</td>\n",
       "      <td>-0.130411</td>\n",
       "      <td>0.641065</td>\n",
       "      <td>0.431242</td>\n",
       "      <td>0.710693</td>\n",
       "      <td>1.000000</td>\n",
       "      <td>0.332620</td>\n",
       "      <td>0.256852</td>\n",
       "      <td>0.085353</td>\n",
       "      <td>0.164380</td>\n",
       "    </tr>\n",
       "    <tr>\n",
       "      <th>FULL_BATH</th>\n",
       "      <td>0.201427</td>\n",
       "      <td>0.073706</td>\n",
       "      <td>0.438143</td>\n",
       "      <td>0.112166</td>\n",
       "      <td>0.378274</td>\n",
       "      <td>0.332620</td>\n",
       "      <td>1.000000</td>\n",
       "      <td>-0.130628</td>\n",
       "      <td>0.146650</td>\n",
       "      <td>0.140160</td>\n",
       "    </tr>\n",
       "    <tr>\n",
       "      <th>HALF_BATH</th>\n",
       "      <td>0.134947</td>\n",
       "      <td>0.060685</td>\n",
       "      <td>0.300847</td>\n",
       "      <td>0.316142</td>\n",
       "      <td>0.282655</td>\n",
       "      <td>0.256852</td>\n",
       "      <td>-0.130628</td>\n",
       "      <td>1.000000</td>\n",
       "      <td>-0.020071</td>\n",
       "      <td>0.176234</td>\n",
       "    </tr>\n",
       "    <tr>\n",
       "      <th>KITCHEN</th>\n",
       "      <td>0.044518</td>\n",
       "      <td>0.052091</td>\n",
       "      <td>0.082799</td>\n",
       "      <td>-0.114602</td>\n",
       "      <td>0.129223</td>\n",
       "      <td>0.085353</td>\n",
       "      <td>0.146650</td>\n",
       "      <td>-0.020071</td>\n",
       "      <td>1.000000</td>\n",
       "      <td>-0.009562</td>\n",
       "    </tr>\n",
       "    <tr>\n",
       "      <th>FIREPLACE</th>\n",
       "      <td>0.181910</td>\n",
       "      <td>0.087234</td>\n",
       "      <td>0.261992</td>\n",
       "      <td>0.120506</td>\n",
       "      <td>0.205223</td>\n",
       "      <td>0.164380</td>\n",
       "      <td>0.140160</td>\n",
       "      <td>0.176234</td>\n",
       "      <td>-0.009562</td>\n",
       "      <td>1.000000</td>\n",
       "    </tr>\n",
       "  </tbody>\n",
       "</table>\n",
       "</div>"
      ],
      "text/plain": [
       "             LOT_SQFT  YR_BUILT  LIVING_AREA    FLOORS     ROOMS  BEDROOMS  \\\n",
       "LOT_SQFT     1.000000 -0.068903     0.426145  0.073640  0.308398  0.254094   \n",
       "YR_BUILT    -0.068903  1.000000    -0.131162 -0.190453 -0.144686 -0.130411   \n",
       "LIVING_AREA  0.426145 -0.131162     1.000000  0.475604  0.720688  0.641065   \n",
       "FLOORS       0.073640 -0.190453     0.475604  1.000000  0.432856  0.431242   \n",
       "ROOMS        0.308398 -0.144686     0.720688  0.432856  1.000000  0.710693   \n",
       "BEDROOMS     0.254094 -0.130411     0.641065  0.431242  0.710693  1.000000   \n",
       "FULL_BATH    0.201427  0.073706     0.438143  0.112166  0.378274  0.332620   \n",
       "HALF_BATH    0.134947  0.060685     0.300847  0.316142  0.282655  0.256852   \n",
       "KITCHEN      0.044518  0.052091     0.082799 -0.114602  0.129223  0.085353   \n",
       "FIREPLACE    0.181910  0.087234     0.261992  0.120506  0.205223  0.164380   \n",
       "\n",
       "             FULL_BATH  HALF_BATH   KITCHEN  FIREPLACE  \n",
       "LOT_SQFT      0.201427   0.134947  0.044518   0.181910  \n",
       "YR_BUILT      0.073706   0.060685  0.052091   0.087234  \n",
       "LIVING_AREA   0.438143   0.300847  0.082799   0.261992  \n",
       "FLOORS        0.112166   0.316142 -0.114602   0.120506  \n",
       "ROOMS         0.378274   0.282655  0.129223   0.205223  \n",
       "BEDROOMS      0.332620   0.256852  0.085353   0.164380  \n",
       "FULL_BATH     1.000000  -0.130628  0.146650   0.140160  \n",
       "HALF_BATH    -0.130628   1.000000 -0.020071   0.176234  \n",
       "KITCHEN       0.146650  -0.020071  1.000000  -0.009562  \n",
       "FIREPLACE     0.140160   0.176234 -0.009562   1.000000  "
      ]
     },
     "execution_count": 20,
     "metadata": {},
     "output_type": "execute_result"
    }
   ],
   "source": [
    "# Analyzing correlation among all predictors \n",
    "homes_df.loc[:, homes_df.columns != 'TOTAL_VALUE'].corr()"
   ]
  },
  {
   "cell_type": "markdown",
   "id": "4d4dce4a",
   "metadata": {},
   "source": [
    "- None of the predictors are highly correlated with one another.\n",
    "- All the predictors are found to have correlation values less than 0.9 in the upper and lower triangular matrices of the diagonal."
   ]
  },
  {
   "cell_type": "markdown",
   "id": "c5ccf25d",
   "metadata": {},
   "source": [
    "### Data visualization"
   ]
  },
  {
   "cell_type": "code",
   "execution_count": 21,
   "id": "74ebac14",
   "metadata": {},
   "outputs": [],
   "source": [
    "import matplotlib.pyplot as plt\n",
    "get_ipython().run_line_magic('matplotlib', 'inline')"
   ]
  },
  {
   "cell_type": "code",
   "execution_count": 22,
   "id": "9cbb0f0f",
   "metadata": {},
   "outputs": [
    {
     "data": {
      "image/png": "[encoded data removed]",
      "text/plain": [
       "<Figure size 432x288 with 1 Axes>"
      ]
     },
     "metadata": {
      "needs_background": "light"
     },
     "output_type": "display_data"
    }
   ],
   "source": [
    "# LIVING_AREA vs. TOTAL_VALUE plot\n",
    "plt.scatter(homes_df.LIVING_AREA, homes_df.TOTAL_VALUE)\n",
    "plt.xlabel(\"LIVING_AREA\")\n",
    "plt.ylabel(\"TOTAL_VALUE\")\n",
    "plt.rcParams.update({'figure.figsize':(10,10), 'figure.dpi':100})\n",
    "plt.title(\"Scatter Plot with Living Area vs Total Value\");"
   ]
  },
  {
   "cell_type": "markdown",
   "id": "1e693992",
   "metadata": {},
   "source": [
    "- As the square footage value of the house plot increases, the total value of the property also increases.\n",
    "- Very few houses have a bigger living area and so very few houses have more property value in the given dataset.\n",
    "- Most of the houses have their living area space in the range of 1000-3800 square feet.\n",
    "- Only one of the house is seen to have a living area space of less than 1000 square feet and another one greater than 5000 square feet.\n",
    "- It is generic that most of the houses in West Roxbury have their living room size between 1000 and 3000 square feet."
   ]
  },
  {
   "cell_type": "markdown",
   "id": "11f8c2cb",
   "metadata": {},
   "source": [
    "## Part 2 : Data preprocessing"
   ]
  },
  {
   "cell_type": "markdown",
   "id": "032e5aa7",
   "metadata": {},
   "source": [
    "#### Dropping predictors (if necessary)"
   ]
  },
  {
   "cell_type": "code",
   "execution_count": 23,
   "id": "dc97f542",
   "metadata": {},
   "outputs": [
    {
     "data": {
      "text/html": [
       "<div>\n",
       "<style scoped>\n",
       "    .dataframe tbody tr th:only-of-type {\n",
       "        vertical-align: middle;\n",
       "    }\n",
       "\n",
       "    .dataframe tbody tr th {\n",
       "        vertical-align: top;\n",
       "    }\n",
       "\n",
       "    .dataframe thead th {\n",
       "        text-align: right;\n",
       "    }\n",
       "</style>\n",
       "<table border=\"1\" class=\"dataframe\">\n",
       "  <thead>\n",
       "    <tr style=\"text-align: right;\">\n",
       "      <th></th>\n",
       "      <th>LOT_SQFT</th>\n",
       "      <th>YR_BUILT</th>\n",
       "      <th>LIVING_AREA</th>\n",
       "      <th>FLOORS</th>\n",
       "      <th>ROOMS</th>\n",
       "      <th>BEDROOMS</th>\n",
       "      <th>FULL_BATH</th>\n",
       "      <th>HALF_BATH</th>\n",
       "      <th>KITCHEN</th>\n",
       "      <th>FIREPLACE</th>\n",
       "    </tr>\n",
       "  </thead>\n",
       "  <tbody>\n",
       "    <tr>\n",
       "      <th>LOT_SQFT</th>\n",
       "      <td>1.000000</td>\n",
       "      <td>-0.068903</td>\n",
       "      <td>0.426145</td>\n",
       "      <td>0.073640</td>\n",
       "      <td>0.308398</td>\n",
       "      <td>0.254094</td>\n",
       "      <td>0.201427</td>\n",
       "      <td>0.134947</td>\n",
       "      <td>0.044518</td>\n",
       "      <td>0.181910</td>\n",
       "    </tr>\n",
       "    <tr>\n",
       "      <th>YR_BUILT</th>\n",
       "      <td>-0.068903</td>\n",
       "      <td>1.000000</td>\n",
       "      <td>-0.131162</td>\n",
       "      <td>-0.190453</td>\n",
       "      <td>-0.144686</td>\n",
       "      <td>-0.130411</td>\n",
       "      <td>0.073706</td>\n",
       "      <td>0.060685</td>\n",
       "      <td>0.052091</td>\n",
       "      <td>0.087234</td>\n",
       "    </tr>\n",
       "    <tr>\n",
       "      <th>LIVING_AREA</th>\n",
       "      <td>0.426145</td>\n",
       "      <td>-0.131162</td>\n",
       "      <td>1.000000</td>\n",
       "      <td>0.475604</td>\n",
       "      <td>0.720688</td>\n",
       "      <td>0.641065</td>\n",
       "      <td>0.438143</td>\n",
       "      <td>0.300847</td>\n",
       "      <td>0.082799</td>\n",
       "      <td>0.261992</td>\n",
       "    </tr>\n",
       "    <tr>\n",
       "      <th>FLOORS</th>\n",
       "      <td>0.073640</td>\n",
       "      <td>-0.190453</td>\n",
       "      <td>0.475604</td>\n",
       "      <td>1.000000</td>\n",
       "      <td>0.432856</td>\n",
       "      <td>0.431242</td>\n",
       "      <td>0.112166</td>\n",
       "      <td>0.316142</td>\n",
       "      <td>-0.114602</td>\n",
       "      <td>0.120506</td>\n",
       "    </tr>\n",
       "    <tr>\n",
       "      <th>ROOMS</th>\n",
       "      <td>0.308398</td>\n",
       "      <td>-0.144686</td>\n",
       "      <td>0.720688</td>\n",
       "      <td>0.432856</td>\n",
       "      <td>1.000000</td>\n",
       "      <td>0.710693</td>\n",
       "      <td>0.378274</td>\n",
       "      <td>0.282655</td>\n",
       "      <td>0.129223</td>\n",
       "      <td>0.205223</td>\n",
       "    </tr>\n",
       "    <tr>\n",
       "      <th>BEDROOMS</th>\n",
       "      <td>0.254094</td>\n",
       "      <td>-0.130411</td>\n",
       "      <td>0.641065</td>\n",
       "      <td>0.431242</td>\n",
       "      <td>0.710693</td>\n",
       "      <td>1.000000</td>\n",
       "      <td>0.332620</td>\n",
       "      <td>0.256852</td>\n",
       "      <td>0.085353</td>\n",
       "      <td>0.164380</td>\n",
       "    </tr>\n",
       "    <tr>\n",
       "      <th>FULL_BATH</th>\n",
       "      <td>0.201427</td>\n",
       "      <td>0.073706</td>\n",
       "      <td>0.438143</td>\n",
       "      <td>0.112166</td>\n",
       "      <td>0.378274</td>\n",
       "      <td>0.332620</td>\n",
       "      <td>1.000000</td>\n",
       "      <td>-0.130628</td>\n",
       "      <td>0.146650</td>\n",
       "      <td>0.140160</td>\n",
       "    </tr>\n",
       "    <tr>\n",
       "      <th>HALF_BATH</th>\n",
       "      <td>0.134947</td>\n",
       "      <td>0.060685</td>\n",
       "      <td>0.300847</td>\n",
       "      <td>0.316142</td>\n",
       "      <td>0.282655</td>\n",
       "      <td>0.256852</td>\n",
       "      <td>-0.130628</td>\n",
       "      <td>1.000000</td>\n",
       "      <td>-0.020071</td>\n",
       "      <td>0.176234</td>\n",
       "    </tr>\n",
       "    <tr>\n",
       "      <th>KITCHEN</th>\n",
       "      <td>0.044518</td>\n",
       "      <td>0.052091</td>\n",
       "      <td>0.082799</td>\n",
       "      <td>-0.114602</td>\n",
       "      <td>0.129223</td>\n",
       "      <td>0.085353</td>\n",
       "      <td>0.146650</td>\n",
       "      <td>-0.020071</td>\n",
       "      <td>1.000000</td>\n",
       "      <td>-0.009562</td>\n",
       "    </tr>\n",
       "    <tr>\n",
       "      <th>FIREPLACE</th>\n",
       "      <td>0.181910</td>\n",
       "      <td>0.087234</td>\n",
       "      <td>0.261992</td>\n",
       "      <td>0.120506</td>\n",
       "      <td>0.205223</td>\n",
       "      <td>0.164380</td>\n",
       "      <td>0.140160</td>\n",
       "      <td>0.176234</td>\n",
       "      <td>-0.009562</td>\n",
       "      <td>1.000000</td>\n",
       "    </tr>\n",
       "  </tbody>\n",
       "</table>\n",
       "</div>"
      ],
      "text/plain": [
       "             LOT_SQFT  YR_BUILT  LIVING_AREA    FLOORS     ROOMS  BEDROOMS  \\\n",
       "LOT_SQFT     1.000000 -0.068903     0.426145  0.073640  0.308398  0.254094   \n",
       "YR_BUILT    -0.068903  1.000000    -0.131162 -0.190453 -0.144686 -0.130411   \n",
       "LIVING_AREA  0.426145 -0.131162     1.000000  0.475604  0.720688  0.641065   \n",
       "FLOORS       0.073640 -0.190453     0.475604  1.000000  0.432856  0.431242   \n",
       "ROOMS        0.308398 -0.144686     0.720688  0.432856  1.000000  0.710693   \n",
       "BEDROOMS     0.254094 -0.130411     0.641065  0.431242  0.710693  1.000000   \n",
       "FULL_BATH    0.201427  0.073706     0.438143  0.112166  0.378274  0.332620   \n",
       "HALF_BATH    0.134947  0.060685     0.300847  0.316142  0.282655  0.256852   \n",
       "KITCHEN      0.044518  0.052091     0.082799 -0.114602  0.129223  0.085353   \n",
       "FIREPLACE    0.181910  0.087234     0.261992  0.120506  0.205223  0.164380   \n",
       "\n",
       "             FULL_BATH  HALF_BATH   KITCHEN  FIREPLACE  \n",
       "LOT_SQFT      0.201427   0.134947  0.044518   0.181910  \n",
       "YR_BUILT      0.073706   0.060685  0.052091   0.087234  \n",
       "LIVING_AREA   0.438143   0.300847  0.082799   0.261992  \n",
       "FLOORS        0.112166   0.316142 -0.114602   0.120506  \n",
       "ROOMS         0.378274   0.282655  0.129223   0.205223  \n",
       "BEDROOMS      0.332620   0.256852  0.085353   0.164380  \n",
       "FULL_BATH     1.000000  -0.130628  0.146650   0.140160  \n",
       "HALF_BATH    -0.130628   1.000000 -0.020071   0.176234  \n",
       "KITCHEN       0.146650  -0.020071  1.000000  -0.009562  \n",
       "FIREPLACE     0.140160   0.176234 -0.009562   1.000000  "
      ]
     },
     "execution_count": 23,
     "metadata": {},
     "output_type": "execute_result"
    }
   ],
   "source": [
    "# Correlation\n",
    "homes_df.loc[:, homes_df.columns != 'TOTAL_VALUE'].corr()"
   ]
  },
  {
   "cell_type": "markdown",
   "id": "3517bb0c",
   "metadata": {},
   "source": [
    "- There is no significant correlation between the predictors to drop\n",
    "- With basic exploration, we can see all the columns having details which can help us in the modeling process"
   ]
  },
  {
   "cell_type": "markdown",
   "id": "84e7375f",
   "metadata": {},
   "source": [
    "#### Dealing with NA values"
   ]
  },
  {
   "cell_type": "code",
   "execution_count": 24,
   "id": "19a9bc68",
   "metadata": {},
   "outputs": [
    {
     "data": {
      "text/plain": [
       "TOTAL_VALUE    0\n",
       "LOT_SQFT       1\n",
       "YR_BUILT       0\n",
       "LIVING_AREA    2\n",
       "FLOORS         0\n",
       "ROOMS          0\n",
       "BEDROOMS       0\n",
       "FULL_BATH      0\n",
       "HALF_BATH      0\n",
       "KITCHEN        0\n",
       "FIREPLACE      0\n",
       "REMODEL        0\n",
       "dtype: int64"
      ]
     },
     "execution_count": 24,
     "metadata": {},
     "output_type": "execute_result"
    }
   ],
   "source": [
    "homes_df.isnull().sum()"
   ]
  },
  {
   "cell_type": "markdown",
   "id": "d5b5987d",
   "metadata": {},
   "source": [
    "- There are just three records with NaN values in them which is approximately 0.05% of the total record. So, we can drop them."
   ]
  },
  {
   "cell_type": "code",
   "execution_count": 25,
   "id": "019273b0",
   "metadata": {},
   "outputs": [
    {
     "name": "stdout",
     "output_type": "stream",
     "text": [
      "     TOTAL_VALUE  LOT_SQFT  YR_BUILT  LIVING_AREA  FLOORS  ROOMS  BEDROOMS  \\\n",
      "89         355.1       NaN      1940       1224.0     1.5      7         3   \n",
      "345        301.1    6271.0      1961          NaN     1.0      8         4   \n",
      "531        277.6    6750.0      1949          NaN     1.0      4         1   \n",
      "\n",
      "     FULL_BATH  HALF_BATH  KITCHEN  FIREPLACE REMODEL  \n",
      "89           2          0        1          1  Recent  \n",
      "345          2          0        1          1    None  \n",
      "531          1          0        1          0    None  \n"
     ]
    }
   ],
   "source": [
    "homes_df_null = homes_df[homes_df.isna().any(axis=1)]\n",
    "print(homes_df_null)"
   ]
  },
  {
   "cell_type": "code",
   "execution_count": 26,
   "id": "90639a94",
   "metadata": {},
   "outputs": [],
   "source": [
    "homes_df = homes_df.dropna()"
   ]
  },
  {
   "cell_type": "code",
   "execution_count": 27,
   "id": "c8ca0fa1",
   "metadata": {},
   "outputs": [
    {
     "data": {
      "text/plain": [
       "(5799, 12)"
      ]
     },
     "execution_count": 27,
     "metadata": {},
     "output_type": "execute_result"
    }
   ],
   "source": [
    "# printing number of rows and columns\n",
    "homes_df.shape"
   ]
  },
  {
   "cell_type": "markdown",
   "id": "16dd6221",
   "metadata": {},
   "source": [
    "#### Dealing with categorical variables"
   ]
  },
  {
   "cell_type": "code",
   "execution_count": 29,
   "id": "7d6a24e6",
   "metadata": {},
   "outputs": [],
   "source": [
    "# flag categorical varibales\n",
    "homes_df = pd.get_dummies(homes_df,drop_first = True)"
   ]
  },
  {
   "cell_type": "code",
   "execution_count": 30,
   "id": "fa9eec44",
   "metadata": {},
   "outputs": [
    {
     "data": {
      "text/html": [
       "<div>\n",
       "<style scoped>\n",
       "    .dataframe tbody tr th:only-of-type {\n",
       "        vertical-align: middle;\n",
       "    }\n",
       "\n",
       "    .dataframe tbody tr th {\n",
       "        vertical-align: top;\n",
       "    }\n",
       "\n",
       "    .dataframe thead th {\n",
       "        text-align: right;\n",
       "    }\n",
       "</style>\n",
       "<table border=\"1\" class=\"dataframe\">\n",
       "  <thead>\n",
       "    <tr style=\"text-align: right;\">\n",
       "      <th></th>\n",
       "      <th>TOTAL_VALUE</th>\n",
       "      <th>LOT_SQFT</th>\n",
       "      <th>YR_BUILT</th>\n",
       "      <th>LIVING_AREA</th>\n",
       "      <th>FLOORS</th>\n",
       "      <th>ROOMS</th>\n",
       "      <th>BEDROOMS</th>\n",
       "      <th>FULL_BATH</th>\n",
       "      <th>HALF_BATH</th>\n",
       "      <th>KITCHEN</th>\n",
       "      <th>FIREPLACE</th>\n",
       "      <th>REMODEL_Old</th>\n",
       "      <th>REMODEL_Recent</th>\n",
       "    </tr>\n",
       "  </thead>\n",
       "  <tbody>\n",
       "    <tr>\n",
       "      <th>0</th>\n",
       "      <td>344.2</td>\n",
       "      <td>9965.0</td>\n",
       "      <td>1880</td>\n",
       "      <td>1352.0</td>\n",
       "      <td>2.0</td>\n",
       "      <td>6</td>\n",
       "      <td>3</td>\n",
       "      <td>1</td>\n",
       "      <td>1</td>\n",
       "      <td>1</td>\n",
       "      <td>0</td>\n",
       "      <td>0</td>\n",
       "      <td>0</td>\n",
       "    </tr>\n",
       "    <tr>\n",
       "      <th>1</th>\n",
       "      <td>412.6</td>\n",
       "      <td>6590.0</td>\n",
       "      <td>1945</td>\n",
       "      <td>1976.0</td>\n",
       "      <td>2.0</td>\n",
       "      <td>10</td>\n",
       "      <td>4</td>\n",
       "      <td>2</td>\n",
       "      <td>1</td>\n",
       "      <td>1</td>\n",
       "      <td>0</td>\n",
       "      <td>0</td>\n",
       "      <td>1</td>\n",
       "    </tr>\n",
       "    <tr>\n",
       "      <th>2</th>\n",
       "      <td>330.1</td>\n",
       "      <td>7500.0</td>\n",
       "      <td>1890</td>\n",
       "      <td>1371.0</td>\n",
       "      <td>2.0</td>\n",
       "      <td>8</td>\n",
       "      <td>4</td>\n",
       "      <td>1</td>\n",
       "      <td>1</td>\n",
       "      <td>1</td>\n",
       "      <td>0</td>\n",
       "      <td>0</td>\n",
       "      <td>0</td>\n",
       "    </tr>\n",
       "    <tr>\n",
       "      <th>3</th>\n",
       "      <td>498.6</td>\n",
       "      <td>13773.0</td>\n",
       "      <td>1957</td>\n",
       "      <td>2608.0</td>\n",
       "      <td>1.0</td>\n",
       "      <td>9</td>\n",
       "      <td>5</td>\n",
       "      <td>1</td>\n",
       "      <td>1</td>\n",
       "      <td>1</td>\n",
       "      <td>1</td>\n",
       "      <td>0</td>\n",
       "      <td>0</td>\n",
       "    </tr>\n",
       "    <tr>\n",
       "      <th>4</th>\n",
       "      <td>331.5</td>\n",
       "      <td>5000.0</td>\n",
       "      <td>1910</td>\n",
       "      <td>1438.0</td>\n",
       "      <td>2.0</td>\n",
       "      <td>7</td>\n",
       "      <td>3</td>\n",
       "      <td>2</td>\n",
       "      <td>0</td>\n",
       "      <td>1</td>\n",
       "      <td>0</td>\n",
       "      <td>0</td>\n",
       "      <td>0</td>\n",
       "    </tr>\n",
       "  </tbody>\n",
       "</table>\n",
       "</div>"
      ],
      "text/plain": [
       "   TOTAL_VALUE  LOT_SQFT  YR_BUILT  LIVING_AREA  FLOORS  ROOMS  BEDROOMS  \\\n",
       "0        344.2    9965.0      1880       1352.0     2.0      6         3   \n",
       "1        412.6    6590.0      1945       1976.0     2.0     10         4   \n",
       "2        330.1    7500.0      1890       1371.0     2.0      8         4   \n",
       "3        498.6   13773.0      1957       2608.0     1.0      9         5   \n",
       "4        331.5    5000.0      1910       1438.0     2.0      7         3   \n",
       "\n",
       "   FULL_BATH  HALF_BATH  KITCHEN  FIREPLACE  REMODEL_Old  REMODEL_Recent  \n",
       "0          1          1        1          0            0               0  \n",
       "1          2          1        1          0            0               1  \n",
       "2          1          1        1          0            0               0  \n",
       "3          1          1        1          1            0               0  \n",
       "4          2          0        1          0            0               0  "
      ]
     },
     "execution_count": 30,
     "metadata": {},
     "output_type": "execute_result"
    }
   ],
   "source": [
    "homes_df.head()"
   ]
  },
  {
   "cell_type": "markdown",
   "id": "9b790e77",
   "metadata": {},
   "source": [
    "- The categorical variable in the dataset is ‘REMODEL’.\n",
    "- The categorical variable has 3 levels (None, Recent and Old).\n",
    "- Out of those, the first level is dropped by the drop_first=True command as there should not be any correlated predictors in linear regression.\n",
    "- There are 12 columns after flagging the categorical variable.\n",
    "- The categorical variable column is expanded as REMODEL_Recent and REMODEL_Old."
   ]
  },
  {
   "cell_type": "markdown",
   "id": "fcb2e651",
   "metadata": {},
   "source": [
    "#### Normalizing the data"
   ]
  },
  {
   "cell_type": "markdown",
   "id": "05c6587c",
   "metadata": {},
   "source": [
    "- In regression, it is recommended to center and normalize the predictors to standardize the predictions to the same units of regression coefficients.\n",
    "- Normalization is done to get rid of multicollinearity among coefficients (such as a change in sign and units) and to choose the right model.\n",
    "- Normalization is done to change the values of numeric columns in a dataset to a common scale, without distorting differences in the range of values."
   ]
  },
  {
   "cell_type": "code",
   "execution_count": 31,
   "id": "2f7be39f",
   "metadata": {},
   "outputs": [],
   "source": [
    "from sklearn import preprocessing"
   ]
  },
  {
   "cell_type": "code",
   "execution_count": 32,
   "id": "efce8077",
   "metadata": {},
   "outputs": [],
   "source": [
    "# creating a dataframe with just the predictors, and another with just the values for the response variable\n",
    "\n",
    "response_df = homes_df['TOTAL_VALUE'].copy()\n",
    "predictors_df = homes_df.loc[:, homes_df.columns != 'TOTAL_VALUE'].copy()"
   ]
  },
  {
   "cell_type": "code",
   "execution_count": 33,
   "id": "4dc037f4",
   "metadata": {},
   "outputs": [
    {
     "data": {
      "text/html": [
       "<div>\n",
       "<style scoped>\n",
       "    .dataframe tbody tr th:only-of-type {\n",
       "        vertical-align: middle;\n",
       "    }\n",
       "\n",
       "    .dataframe tbody tr th {\n",
       "        vertical-align: top;\n",
       "    }\n",
       "\n",
       "    .dataframe thead th {\n",
       "        text-align: right;\n",
       "    }\n",
       "</style>\n",
       "<table border=\"1\" class=\"dataframe\">\n",
       "  <thead>\n",
       "    <tr style=\"text-align: right;\">\n",
       "      <th></th>\n",
       "      <th>LOT_SQFT</th>\n",
       "      <th>YR_BUILT</th>\n",
       "      <th>LIVING_AREA</th>\n",
       "      <th>FLOORS</th>\n",
       "      <th>ROOMS</th>\n",
       "      <th>BEDROOMS</th>\n",
       "      <th>FULL_BATH</th>\n",
       "      <th>HALF_BATH</th>\n",
       "      <th>KITCHEN</th>\n",
       "      <th>FIREPLACE</th>\n",
       "      <th>REMODEL_Old</th>\n",
       "      <th>REMODEL_Recent</th>\n",
       "    </tr>\n",
       "  </thead>\n",
       "  <tbody>\n",
       "    <tr>\n",
       "      <th>0</th>\n",
       "      <td>1.380770</td>\n",
       "      <td>-1.576306</td>\n",
       "      <td>-0.564957</td>\n",
       "      <td>0.710481</td>\n",
       "      <td>-0.692386</td>\n",
       "      <td>-0.272264</td>\n",
       "      <td>-0.568257</td>\n",
       "      <td>0.722730</td>\n",
       "      <td>-0.124847</td>\n",
       "      <td>-1.309419</td>\n",
       "      <td>-0.333684</td>\n",
       "      <td>-0.421262</td>\n",
       "    </tr>\n",
       "    <tr>\n",
       "      <th>1</th>\n",
       "      <td>0.116790</td>\n",
       "      <td>0.229535</td>\n",
       "      <td>0.589695</td>\n",
       "      <td>0.710481</td>\n",
       "      <td>2.090597</td>\n",
       "      <td>0.909517</td>\n",
       "      <td>1.347628</td>\n",
       "      <td>0.722730</td>\n",
       "      <td>-0.124847</td>\n",
       "      <td>-1.309419</td>\n",
       "      <td>-0.333684</td>\n",
       "      <td>2.373818</td>\n",
       "    </tr>\n",
       "    <tr>\n",
       "      <th>2</th>\n",
       "      <td>0.457596</td>\n",
       "      <td>-1.298484</td>\n",
       "      <td>-0.529799</td>\n",
       "      <td>0.710481</td>\n",
       "      <td>0.699105</td>\n",
       "      <td>0.909517</td>\n",
       "      <td>-0.568257</td>\n",
       "      <td>0.722730</td>\n",
       "      <td>-0.124847</td>\n",
       "      <td>-1.309419</td>\n",
       "      <td>-0.333684</td>\n",
       "      <td>-0.421262</td>\n",
       "    </tr>\n",
       "    <tr>\n",
       "      <th>3</th>\n",
       "      <td>2.806915</td>\n",
       "      <td>0.562921</td>\n",
       "      <td>1.759149</td>\n",
       "      <td>-1.537857</td>\n",
       "      <td>1.394851</td>\n",
       "      <td>2.091298</td>\n",
       "      <td>-0.568257</td>\n",
       "      <td>0.722730</td>\n",
       "      <td>-0.124847</td>\n",
       "      <td>0.460173</td>\n",
       "      <td>-0.333684</td>\n",
       "      <td>-0.421262</td>\n",
       "    </tr>\n",
       "    <tr>\n",
       "      <th>4</th>\n",
       "      <td>-0.478685</td>\n",
       "      <td>-0.742841</td>\n",
       "      <td>-0.405822</td>\n",
       "      <td>0.710481</td>\n",
       "      <td>0.003359</td>\n",
       "      <td>-0.272264</td>\n",
       "      <td>1.347628</td>\n",
       "      <td>-1.150811</td>\n",
       "      <td>-0.124847</td>\n",
       "      <td>-1.309419</td>\n",
       "      <td>-0.333684</td>\n",
       "      <td>-0.421262</td>\n",
       "    </tr>\n",
       "    <tr>\n",
       "      <th>5</th>\n",
       "      <td>-0.425505</td>\n",
       "      <td>0.368445</td>\n",
       "      <td>-1.105274</td>\n",
       "      <td>-1.537857</td>\n",
       "      <td>-0.692386</td>\n",
       "      <td>-0.272264</td>\n",
       "      <td>-0.568257</td>\n",
       "      <td>-1.150811</td>\n",
       "      <td>-0.124847</td>\n",
       "      <td>0.460173</td>\n",
       "      <td>2.996843</td>\n",
       "      <td>-0.421262</td>\n",
       "    </tr>\n",
       "    <tr>\n",
       "      <th>6</th>\n",
       "      <td>-0.478685</td>\n",
       "      <td>0.479574</td>\n",
       "      <td>0.478670</td>\n",
       "      <td>0.710481</td>\n",
       "      <td>0.003359</td>\n",
       "      <td>-0.272264</td>\n",
       "      <td>-0.568257</td>\n",
       "      <td>0.722730</td>\n",
       "      <td>-0.124847</td>\n",
       "      <td>-1.309419</td>\n",
       "      <td>-0.333684</td>\n",
       "      <td>-0.421262</td>\n",
       "    </tr>\n",
       "    <tr>\n",
       "      <th>7</th>\n",
       "      <td>1.393878</td>\n",
       "      <td>0.368445</td>\n",
       "      <td>-0.846218</td>\n",
       "      <td>-1.537857</td>\n",
       "      <td>-0.692386</td>\n",
       "      <td>-0.272264</td>\n",
       "      <td>-0.568257</td>\n",
       "      <td>-1.150811</td>\n",
       "      <td>-0.124847</td>\n",
       "      <td>-1.309419</td>\n",
       "      <td>-0.333684</td>\n",
       "      <td>-0.421262</td>\n",
       "    </tr>\n",
       "    <tr>\n",
       "      <th>8</th>\n",
       "      <td>0.208546</td>\n",
       "      <td>0.590703</td>\n",
       "      <td>-1.046061</td>\n",
       "      <td>-1.537857</td>\n",
       "      <td>-1.388132</td>\n",
       "      <td>-0.272264</td>\n",
       "      <td>-0.568257</td>\n",
       "      <td>-1.150811</td>\n",
       "      <td>-0.124847</td>\n",
       "      <td>0.460173</td>\n",
       "      <td>-0.333684</td>\n",
       "      <td>2.373818</td>\n",
       "    </tr>\n",
       "    <tr>\n",
       "      <th>9</th>\n",
       "      <td>-0.443856</td>\n",
       "      <td>-1.020663</td>\n",
       "      <td>2.469704</td>\n",
       "      <td>0.710481</td>\n",
       "      <td>0.699105</td>\n",
       "      <td>0.909517</td>\n",
       "      <td>1.347628</td>\n",
       "      <td>-1.150811</td>\n",
       "      <td>-0.124847</td>\n",
       "      <td>-1.309419</td>\n",
       "      <td>-0.333684</td>\n",
       "      <td>-0.421262</td>\n",
       "    </tr>\n",
       "  </tbody>\n",
       "</table>\n",
       "</div>"
      ],
      "text/plain": [
       "   LOT_SQFT  YR_BUILT  LIVING_AREA    FLOORS     ROOMS  BEDROOMS  FULL_BATH  \\\n",
       "0  1.380770 -1.576306    -0.564957  0.710481 -0.692386 -0.272264  -0.568257   \n",
       "1  0.116790  0.229535     0.589695  0.710481  2.090597  0.909517   1.347628   \n",
       "2  0.457596 -1.298484    -0.529799  0.710481  0.699105  0.909517  -0.568257   \n",
       "3  2.806915  0.562921     1.759149 -1.537857  1.394851  2.091298  -0.568257   \n",
       "4 -0.478685 -0.742841    -0.405822  0.710481  0.003359 -0.272264   1.347628   \n",
       "5 -0.425505  0.368445    -1.105274 -1.537857 -0.692386 -0.272264  -0.568257   \n",
       "6 -0.478685  0.479574     0.478670  0.710481  0.003359 -0.272264  -0.568257   \n",
       "7  1.393878  0.368445    -0.846218 -1.537857 -0.692386 -0.272264  -0.568257   \n",
       "8  0.208546  0.590703    -1.046061 -1.537857 -1.388132 -0.272264  -0.568257   \n",
       "9 -0.443856 -1.020663     2.469704  0.710481  0.699105  0.909517   1.347628   \n",
       "\n",
       "   HALF_BATH   KITCHEN  FIREPLACE  REMODEL_Old  REMODEL_Recent  \n",
       "0   0.722730 -0.124847  -1.309419    -0.333684       -0.421262  \n",
       "1   0.722730 -0.124847  -1.309419    -0.333684        2.373818  \n",
       "2   0.722730 -0.124847  -1.309419    -0.333684       -0.421262  \n",
       "3   0.722730 -0.124847   0.460173    -0.333684       -0.421262  \n",
       "4  -1.150811 -0.124847  -1.309419    -0.333684       -0.421262  \n",
       "5  -1.150811 -0.124847   0.460173     2.996843       -0.421262  \n",
       "6   0.722730 -0.124847  -1.309419    -0.333684       -0.421262  \n",
       "7  -1.150811 -0.124847  -1.309419    -0.333684       -0.421262  \n",
       "8  -1.150811 -0.124847   0.460173    -0.333684        2.373818  \n",
       "9  -1.150811 -0.124847  -1.309419    -0.333684       -0.421262  "
      ]
     },
     "execution_count": 33,
     "metadata": {},
     "output_type": "execute_result"
    }
   ],
   "source": [
    "# normalizing predictors using standardization (i.e., force all predictors to have mean = 0  and standard deviation = 1)\n",
    "z_score_normalize = preprocessing.StandardScaler()\n",
    "predictor_df_normalized = z_score_normalize.fit_transform(predictors_df)\n",
    "predictor_df_normalized = pd.DataFrame(predictor_df_normalized, columns = predictors_df.columns)\n",
    "predictor_df_normalized.head(10)"
   ]
  },
  {
   "cell_type": "code",
   "execution_count": 34,
   "id": "46cd4b50",
   "metadata": {
    "scrolled": true
   },
   "outputs": [
    {
     "data": {
      "text/html": [
       "<div>\n",
       "<style scoped>\n",
       "    .dataframe tbody tr th:only-of-type {\n",
       "        vertical-align: middle;\n",
       "    }\n",
       "\n",
       "    .dataframe tbody tr th {\n",
       "        vertical-align: top;\n",
       "    }\n",
       "\n",
       "    .dataframe thead th {\n",
       "        text-align: right;\n",
       "    }\n",
       "</style>\n",
       "<table border=\"1\" class=\"dataframe\">\n",
       "  <thead>\n",
       "    <tr style=\"text-align: right;\">\n",
       "      <th></th>\n",
       "      <th>LOT_SQFT</th>\n",
       "      <th>YR_BUILT</th>\n",
       "      <th>LIVING_AREA</th>\n",
       "      <th>FLOORS</th>\n",
       "      <th>ROOMS</th>\n",
       "      <th>BEDROOMS</th>\n",
       "      <th>FULL_BATH</th>\n",
       "      <th>HALF_BATH</th>\n",
       "      <th>KITCHEN</th>\n",
       "      <th>FIREPLACE</th>\n",
       "      <th>REMODEL_Old</th>\n",
       "      <th>REMODEL_Recent</th>\n",
       "    </tr>\n",
       "  </thead>\n",
       "  <tbody>\n",
       "    <tr>\n",
       "      <th>count</th>\n",
       "      <td>5.799000e+03</td>\n",
       "      <td>5.799000e+03</td>\n",
       "      <td>5.799000e+03</td>\n",
       "      <td>5.799000e+03</td>\n",
       "      <td>5.799000e+03</td>\n",
       "      <td>5.799000e+03</td>\n",
       "      <td>5.799000e+03</td>\n",
       "      <td>5.799000e+03</td>\n",
       "      <td>5.799000e+03</td>\n",
       "      <td>5.799000e+03</td>\n",
       "      <td>5.799000e+03</td>\n",
       "      <td>5.799000e+03</td>\n",
       "    </tr>\n",
       "    <tr>\n",
       "      <th>mean</th>\n",
       "      <td>-1.177422e-18</td>\n",
       "      <td>-1.607114e-15</td>\n",
       "      <td>1.996209e-16</td>\n",
       "      <td>1.690204e-15</td>\n",
       "      <td>-5.619282e-17</td>\n",
       "      <td>1.771513e-15</td>\n",
       "      <td>-3.418047e-15</td>\n",
       "      <td>-1.584121e-15</td>\n",
       "      <td>-5.191618e-16</td>\n",
       "      <td>-1.002004e-14</td>\n",
       "      <td>1.627083e-15</td>\n",
       "      <td>-1.836415e-15</td>\n",
       "    </tr>\n",
       "    <tr>\n",
       "      <th>std</th>\n",
       "      <td>1.000086e+00</td>\n",
       "      <td>1.000086e+00</td>\n",
       "      <td>1.000086e+00</td>\n",
       "      <td>1.000086e+00</td>\n",
       "      <td>1.000086e+00</td>\n",
       "      <td>1.000086e+00</td>\n",
       "      <td>1.000086e+00</td>\n",
       "      <td>1.000086e+00</td>\n",
       "      <td>1.000086e+00</td>\n",
       "      <td>1.000086e+00</td>\n",
       "      <td>1.000086e+00</td>\n",
       "      <td>1.000086e+00</td>\n",
       "    </tr>\n",
       "    <tr>\n",
       "      <th>min</th>\n",
       "      <td>-1.977860e+00</td>\n",
       "      <td>-5.380677e+01</td>\n",
       "      <td>-2.134098e+00</td>\n",
       "      <td>-1.537857e+00</td>\n",
       "      <td>-2.779624e+00</td>\n",
       "      <td>-2.635827e+00</td>\n",
       "      <td>-5.682572e-01</td>\n",
       "      <td>-1.150811e+00</td>\n",
       "      <td>-1.248467e-01</td>\n",
       "      <td>-1.309419e+00</td>\n",
       "      <td>-3.336845e-01</td>\n",
       "      <td>-4.212623e-01</td>\n",
       "    </tr>\n",
       "    <tr>\n",
       "      <th>25%</th>\n",
       "      <td>-5.644487e-01</td>\n",
       "      <td>-4.650194e-01</td>\n",
       "      <td>-6.463745e-01</td>\n",
       "      <td>-1.537857e+00</td>\n",
       "      <td>-6.923865e-01</td>\n",
       "      <td>-2.722641e-01</td>\n",
       "      <td>-5.682572e-01</td>\n",
       "      <td>-1.150811e+00</td>\n",
       "      <td>-1.248467e-01</td>\n",
       "      <td>-1.309419e+00</td>\n",
       "      <td>-3.336845e-01</td>\n",
       "      <td>-4.212623e-01</td>\n",
       "    </tr>\n",
       "    <tr>\n",
       "      <th>50%</th>\n",
       "      <td>-2.228931e-01</td>\n",
       "      <td>-4.828701e-02</td>\n",
       "      <td>-2.004274e-01</td>\n",
       "      <td>7.104812e-01</td>\n",
       "      <td>3.359352e-03</td>\n",
       "      <td>-2.722641e-01</td>\n",
       "      <td>-5.682572e-01</td>\n",
       "      <td>7.227300e-01</td>\n",
       "      <td>-1.248467e-01</td>\n",
       "      <td>4.601735e-01</td>\n",
       "      <td>-3.336845e-01</td>\n",
       "      <td>-4.212623e-01</td>\n",
       "    </tr>\n",
       "    <tr>\n",
       "      <th>75%</th>\n",
       "      <td>2.808265e-01</td>\n",
       "      <td>5.073562e-01</td>\n",
       "      <td>4.009534e-01</td>\n",
       "      <td>7.104812e-01</td>\n",
       "      <td>6.991052e-01</td>\n",
       "      <td>9.095171e-01</td>\n",
       "      <td>1.347628e+00</td>\n",
       "      <td>7.227300e-01</td>\n",
       "      <td>-1.248467e-01</td>\n",
       "      <td>4.601735e-01</td>\n",
       "      <td>-3.336845e-01</td>\n",
       "      <td>-4.212623e-01</td>\n",
       "    </tr>\n",
       "    <tr>\n",
       "      <th>max</th>\n",
       "      <td>1.503026e+01</td>\n",
       "      <td>2.063157e+00</td>\n",
       "      <td>6.720078e+00</td>\n",
       "      <td>2.958820e+00</td>\n",
       "      <td>4.873580e+00</td>\n",
       "      <td>6.818423e+00</td>\n",
       "      <td>7.095285e+00</td>\n",
       "      <td>4.469812e+00</td>\n",
       "      <td>8.009825e+00</td>\n",
       "      <td>5.768952e+00</td>\n",
       "      <td>2.996843e+00</td>\n",
       "      <td>2.373818e+00</td>\n",
       "    </tr>\n",
       "  </tbody>\n",
       "</table>\n",
       "</div>"
      ],
      "text/plain": [
       "           LOT_SQFT      YR_BUILT   LIVING_AREA        FLOORS         ROOMS  \\\n",
       "count  5.799000e+03  5.799000e+03  5.799000e+03  5.799000e+03  5.799000e+03   \n",
       "mean  -1.177422e-18 -1.607114e-15  1.996209e-16  1.690204e-15 -5.619282e-17   \n",
       "std    1.000086e+00  1.000086e+00  1.000086e+00  1.000086e+00  1.000086e+00   \n",
       "min   -1.977860e+00 -5.380677e+01 -2.134098e+00 -1.537857e+00 -2.779624e+00   \n",
       "25%   -5.644487e-01 -4.650194e-01 -6.463745e-01 -1.537857e+00 -6.923865e-01   \n",
       "50%   -2.228931e-01 -4.828701e-02 -2.004274e-01  7.104812e-01  3.359352e-03   \n",
       "75%    2.808265e-01  5.073562e-01  4.009534e-01  7.104812e-01  6.991052e-01   \n",
       "max    1.503026e+01  2.063157e+00  6.720078e+00  2.958820e+00  4.873580e+00   \n",
       "\n",
       "           BEDROOMS     FULL_BATH     HALF_BATH       KITCHEN     FIREPLACE  \\\n",
       "count  5.799000e+03  5.799000e+03  5.799000e+03  5.799000e+03  5.799000e+03   \n",
       "mean   1.771513e-15 -3.418047e-15 -1.584121e-15 -5.191618e-16 -1.002004e-14   \n",
       "std    1.000086e+00  1.000086e+00  1.000086e+00  1.000086e+00  1.000086e+00   \n",
       "min   -2.635827e+00 -5.682572e-01 -1.150811e+00 -1.248467e-01 -1.309419e+00   \n",
       "25%   -2.722641e-01 -5.682572e-01 -1.150811e+00 -1.248467e-01 -1.309419e+00   \n",
       "50%   -2.722641e-01 -5.682572e-01  7.227300e-01 -1.248467e-01  4.601735e-01   \n",
       "75%    9.095171e-01  1.347628e+00  7.227300e-01 -1.248467e-01  4.601735e-01   \n",
       "max    6.818423e+00  7.095285e+00  4.469812e+00  8.009825e+00  5.768952e+00   \n",
       "\n",
       "        REMODEL_Old  REMODEL_Recent  \n",
       "count  5.799000e+03    5.799000e+03  \n",
       "mean   1.627083e-15   -1.836415e-15  \n",
       "std    1.000086e+00    1.000086e+00  \n",
       "min   -3.336845e-01   -4.212623e-01  \n",
       "25%   -3.336845e-01   -4.212623e-01  \n",
       "50%   -3.336845e-01   -4.212623e-01  \n",
       "75%   -3.336845e-01   -4.212623e-01  \n",
       "max    2.996843e+00    2.373818e+00  "
      ]
     },
     "execution_count": 34,
     "metadata": {},
     "output_type": "execute_result"
    }
   ],
   "source": [
    "predictor_df_normalized.describe()"
   ]
  },
  {
   "cell_type": "markdown",
   "id": "c774b5e1",
   "metadata": {},
   "source": [
    "- The Standard deviation is 1 for all columns after Z-score normalization.\n",
    "- The Mean is almost 0 (e-14 to e-18)"
   ]
  },
  {
   "cell_type": "code",
   "execution_count": 35,
   "id": "9d6575a0",
   "metadata": {},
   "outputs": [
    {
     "data": {
      "text/plain": [
       "(5799, 12)"
      ]
     },
     "execution_count": 35,
     "metadata": {},
     "output_type": "execute_result"
    }
   ],
   "source": [
    "predictor_df_normalized.shape"
   ]
  },
  {
   "cell_type": "markdown",
   "id": "4332c743",
   "metadata": {},
   "source": [
    "## Part 3: Multiple Linear Regression"
   ]
  },
  {
   "cell_type": "markdown",
   "id": "a49abd38",
   "metadata": {},
   "source": [
    "### 3.1: Train and Test multiple linear regression model with sklearn"
   ]
  },
  {
   "cell_type": "code",
   "execution_count": 36,
   "id": "f7fc1d77",
   "metadata": {},
   "outputs": [
    {
     "name": "stdout",
     "output_type": "stream",
     "text": [
      "no display found. Using non-interactive Agg backend\n"
     ]
    }
   ],
   "source": [
    "from sklearn.model_selection import train_test_split\n",
    "from sklearn.linear_model import LinearRegression\n",
    "\n",
    "from dmba import regressionSummary, adjusted_r2_score  # using the dmba package for perforance evaluation"
   ]
  },
  {
   "cell_type": "code",
   "execution_count": 37,
   "id": "2aa158e1",
   "metadata": {},
   "outputs": [],
   "source": [
    "# partition data into train and test sets, we are holding 30% of the data for testing\n",
    "X = predictor_df_normalized\n",
    "y = response_df\n",
    "train_X, test_X, train_y, test_y = train_test_split(X, y, test_size=0.3, random_state=1)"
   ]
  },
  {
   "cell_type": "code",
   "execution_count": 38,
   "id": "196c062b",
   "metadata": {},
   "outputs": [],
   "source": [
    "# train the LR model\n",
    "linear_model = LinearRegression()\n",
    "linear_model = linear_model.fit(train_X, train_y)"
   ]
  },
  {
   "cell_type": "code",
   "execution_count": 39,
   "id": "2dd223f4",
   "metadata": {
    "scrolled": true
   },
   "outputs": [
    {
     "name": "stdout",
     "output_type": "stream",
     "text": [
      "intercept 392.7177854344719\n",
      "         Predictor  coefficient\n",
      "0         LOT_SQFT    23.816638\n",
      "1         YR_BUILT    -0.074815\n",
      "2      LIVING_AREA    52.189564\n",
      "3           FLOORS    12.691033\n",
      "4            ROOMS     2.521823\n",
      "5         BEDROOMS    -0.241315\n",
      "6        FULL_BATH     9.961379\n",
      "7        HALF_BATH    10.341500\n",
      "8          KITCHEN    -4.124398\n",
      "9        FIREPLACE    11.332082\n",
      "10     REMODEL_Old     2.719823\n",
      "11  REMODEL_Recent     9.762506\n"
     ]
    }
   ],
   "source": [
    "# printing the coefficients\n",
    "print('intercept', linear_model.intercept_)\n",
    "print(pd.DataFrame({'Predictor':X.columns, 'coefficient': linear_model.coef_}))"
   ]
  },
  {
   "cell_type": "markdown",
   "id": "3e3e9cc6",
   "metadata": {},
   "source": [
    "#### Performance metrics on training set"
   ]
  },
  {
   "cell_type": "code",
   "execution_count": 40,
   "id": "adbde713",
   "metadata": {},
   "outputs": [
    {
     "name": "stdout",
     "output_type": "stream",
     "text": [
      "\n",
      "Regression statistics\n",
      "\n",
      "                      Mean Error (ME) : 0.0000\n",
      "       Root Mean Squared Error (RMSE) : 44.0222\n",
      "            Mean Absolute Error (MAE) : 33.3665\n",
      "          Mean Percentage Error (MPE) : -1.1660\n",
      "Mean Absolute Percentage Error (MAPE) : 8.6980\n"
     ]
    }
   ],
   "source": [
    "# printing performance metrics on training set using regressionSummary()\n",
    "predicted_y_training = linear_model.predict(train_X)\n",
    "regressionSummary(train_y, predicted_y_training)"
   ]
  },
  {
   "cell_type": "code",
   "execution_count": 41,
   "id": "8d5c481c",
   "metadata": {},
   "outputs": [
    {
     "name": "stdout",
     "output_type": "stream",
     "text": [
      "0.7939987588204693\n"
     ]
    }
   ],
   "source": [
    "print(adjusted_r2_score(train_y, predicted_y_training, linear_model))"
   ]
  },
  {
   "cell_type": "markdown",
   "id": "7afc1d17",
   "metadata": {},
   "source": [
    "#### Performance metrics on test set"
   ]
  },
  {
   "cell_type": "code",
   "execution_count": 43,
   "id": "374f4f98",
   "metadata": {},
   "outputs": [],
   "source": [
    "# Deploying the model on the test data\n",
    "predicted_y_test = linear_model.predict(test_X) "
   ]
  },
  {
   "cell_type": "code",
   "execution_count": 44,
   "id": "cc7e1a7f",
   "metadata": {
    "scrolled": true
   },
   "outputs": [
    {
     "name": "stdout",
     "output_type": "stream",
     "text": [
      "\n",
      "Regression statistics\n",
      "\n",
      "                      Mean Error (ME) : 0.0335\n",
      "       Root Mean Squared Error (RMSE) : 44.8031\n",
      "            Mean Absolute Error (MAE) : 33.6772\n",
      "          Mean Percentage Error (MPE) : -1.3231\n",
      "Mean Absolute Percentage Error (MAPE) : 8.8396\n"
     ]
    }
   ],
   "source": [
    "# Using regressionSummary()\n",
    "regressionSummary(test_y, predicted_y_test)"
   ]
  },
  {
   "cell_type": "markdown",
   "id": "4ffd62dc",
   "metadata": {},
   "source": [
    "How did the Model perform ?\n",
    "- The performance can be measured using the percentage of accuracy observed in both training and test datasets to conclude the presence of overfitting.\n",
    "- If the model performs better in the training set than in the test set, the model is likely to be overfitting.\n",
    "- The validation metrics usually increase until a point where they stagnate or start declining when the model is affected by overfitting.\n",
    "- In the given model built using sklearn, the performance metrics of training and test data remain the same with a negligible difference (~0.007%). The model is not overfitted as there is no difference with performance metrics in training and test data."
   ]
  },
  {
   "cell_type": "code",
   "execution_count": 59,
   "id": "317c4911",
   "metadata": {},
   "outputs": [
    {
     "data": {
      "text/html": [
       "<div>\n",
       "<style scoped>\n",
       "    .dataframe tbody tr th:only-of-type {\n",
       "        vertical-align: middle;\n",
       "    }\n",
       "\n",
       "    .dataframe tbody tr th {\n",
       "        vertical-align: top;\n",
       "    }\n",
       "\n",
       "    .dataframe thead th {\n",
       "        text-align: right;\n",
       "    }\n",
       "</style>\n",
       "<table border=\"1\" class=\"dataframe\">\n",
       "  <thead>\n",
       "    <tr style=\"text-align: right;\">\n",
       "      <th></th>\n",
       "      <th>Predicted</th>\n",
       "      <th>Actual</th>\n",
       "      <th>Residual</th>\n",
       "    </tr>\n",
       "  </thead>\n",
       "  <tbody>\n",
       "    <tr>\n",
       "      <th>0</th>\n",
       "      <td>326.948924</td>\n",
       "      <td>291.7</td>\n",
       "      <td>-35.248924</td>\n",
       "    </tr>\n",
       "    <tr>\n",
       "      <th>1</th>\n",
       "      <td>377.324591</td>\n",
       "      <td>361.1</td>\n",
       "      <td>-16.224591</td>\n",
       "    </tr>\n",
       "    <tr>\n",
       "      <th>2</th>\n",
       "      <td>384.895749</td>\n",
       "      <td>371.6</td>\n",
       "      <td>-13.295749</td>\n",
       "    </tr>\n",
       "    <tr>\n",
       "      <th>3</th>\n",
       "      <td>279.831242</td>\n",
       "      <td>215.5</td>\n",
       "      <td>-64.331242</td>\n",
       "    </tr>\n",
       "    <tr>\n",
       "      <th>4</th>\n",
       "      <td>369.442969</td>\n",
       "      <td>325.7</td>\n",
       "      <td>-43.742969</td>\n",
       "    </tr>\n",
       "  </tbody>\n",
       "</table>\n",
       "</div>"
      ],
      "text/plain": [
       "    Predicted  Actual   Residual\n",
       "0  326.948924   291.7 -35.248924\n",
       "1  377.324591   361.1 -16.224591\n",
       "2  384.895749   371.6 -13.295749\n",
       "3  279.831242   215.5 -64.331242\n",
       "4  369.442969   325.7 -43.742969"
      ]
     },
     "execution_count": 59,
     "metadata": {},
     "output_type": "execute_result"
    }
   ],
   "source": [
    "result = pd.DataFrame({'Predicted': predicted_y_test, 'Actual': test_y,\n",
    "                       'Residual': test_y - predicted_y_test})\n",
    "result.head()"
   ]
  },
  {
   "cell_type": "code",
   "execution_count": 45,
   "id": "7697c921",
   "metadata": {
    "scrolled": true
   },
   "outputs": [
    {
     "name": "stderr",
     "output_type": "stream",
     "text": [
      "/var/folders/ld/cklp9y613tndhgzmfwb4bw0c0000gn/T/ipykernel_72800/453326233.py:6: UserWarning: Matplotlib is currently using agg, which is a non-GUI backend, so cannot show the figure.\n",
      "  plt.show()\n"
     ]
    },
    {
     "data": {
      "image/png": "[encoded data removed]",
      "text/plain": [
       "<Figure size 1000x1000 with 1 Axes>"
      ]
     },
     "metadata": {
      "needs_background": "light"
     },
     "output_type": "display_data"
    }
   ],
   "source": [
    "# Checking if the residuals are normally distributed\n",
    "residuals = test_y - predicted_y_test\n",
    "\n",
    "plt.hist(residuals)\n",
    "plt.tight_layout()\n",
    "plt.show()"
   ]
  },
  {
   "cell_type": "markdown",
   "id": "e3e11902",
   "metadata": {},
   "source": [
    "- Based on the above histogram, the residuals are normally distributed. The residuals are distributed around zero for the entire range of predicted values and are evenly scattered.\n",
    "- It can be interpreted as a well-performing model as the residuals are in the normal distribution."
   ]
  },
  {
   "cell_type": "markdown",
   "id": "dc47febe",
   "metadata": {},
   "source": [
    "### 3.2 : Train and Test model with statsmodels"
   ]
  },
  {
   "cell_type": "code",
   "execution_count": 46,
   "id": "94eb9e07",
   "metadata": {},
   "outputs": [],
   "source": [
    "import statsmodels.api as sm"
   ]
  },
  {
   "cell_type": "code",
   "execution_count": 47,
   "id": "ebaaacdd",
   "metadata": {},
   "outputs": [],
   "source": [
    "train_X = train_X.reset_index(drop=True)\n",
    "test_X = test_X.reset_index(drop=True)\n",
    "\n",
    "train_y = train_y.reset_index(drop=True)\n",
    "test_y = test_y.reset_index(drop=True)"
   ]
  },
  {
   "cell_type": "code",
   "execution_count": 48,
   "id": "66eb3587",
   "metadata": {},
   "outputs": [],
   "source": [
    "# adding constant to the training and testing data (the predictors) and train model\n",
    "train_X = sm.add_constant(train_X)\n",
    "test_X = sm.add_constant(test_X)\n",
    "\n",
    "linear_model2 = sm.OLS(train_y, train_X).fit()"
   ]
  },
  {
   "cell_type": "code",
   "execution_count": 49,
   "id": "6b102132",
   "metadata": {
    "scrolled": true
   },
   "outputs": [
    {
     "data": {
      "text/plain": [
       "const             392.717785\n",
       "LOT_SQFT           23.816638\n",
       "YR_BUILT           -0.074815\n",
       "LIVING_AREA        52.189564\n",
       "FLOORS             12.691033\n",
       "ROOMS               2.521823\n",
       "BEDROOMS           -0.241315\n",
       "FULL_BATH           9.961379\n",
       "HALF_BATH          10.341500\n",
       "KITCHEN            -4.124398\n",
       "FIREPLACE          11.332082\n",
       "REMODEL_Old         2.719823\n",
       "REMODEL_Recent      9.762506\n",
       "dtype: float64"
      ]
     },
     "execution_count": 49,
     "metadata": {},
     "output_type": "execute_result"
    }
   ],
   "source": [
    "# printing the coefficients\n",
    "linear_model2.params"
   ]
  },
  {
   "cell_type": "markdown",
   "id": "9fa32fb1",
   "metadata": {},
   "source": [
    "#### Training performance"
   ]
  },
  {
   "cell_type": "code",
   "execution_count": 50,
   "id": "72381f8a",
   "metadata": {},
   "outputs": [
    {
     "name": "stdout",
     "output_type": "stream",
     "text": [
      "\n",
      "Regression statistics\n",
      "\n",
      "                      Mean Error (ME) : -0.0000\n",
      "       Root Mean Squared Error (RMSE) : 44.0222\n",
      "            Mean Absolute Error (MAE) : 33.3665\n",
      "          Mean Percentage Error (MPE) : -1.1660\n",
      "Mean Absolute Percentage Error (MAPE) : 8.6980\n"
     ]
    }
   ],
   "source": [
    "predicted_y_training2 = linear_model2.predict(train_X)\n",
    "regressionSummary(train_y, predicted_y_training2)"
   ]
  },
  {
   "cell_type": "code",
   "execution_count": 51,
   "id": "f1788225",
   "metadata": {},
   "outputs": [],
   "source": [
    "# now, deploy the model on the test data\n",
    "predicted_y_test2 = linear_model2.predict(test_X)"
   ]
  },
  {
   "cell_type": "markdown",
   "id": "ac779091",
   "metadata": {},
   "source": [
    "#### Testing performance"
   ]
  },
  {
   "cell_type": "code",
   "execution_count": 52,
   "id": "f20abc60",
   "metadata": {},
   "outputs": [
    {
     "name": "stdout",
     "output_type": "stream",
     "text": [
      "\n",
      "Regression statistics\n",
      "\n",
      "                      Mean Error (ME) : 0.0335\n",
      "       Root Mean Squared Error (RMSE) : 44.8031\n",
      "            Mean Absolute Error (MAE) : 33.6772\n",
      "          Mean Percentage Error (MPE) : -1.3231\n",
      "Mean Absolute Percentage Error (MAPE) : 8.8396\n"
     ]
    }
   ],
   "source": [
    "regressionSummary(test_y, predicted_y_test2)"
   ]
  },
  {
   "cell_type": "markdown",
   "id": "2f956cfe",
   "metadata": {},
   "source": [
    "- The model built using statsmodel reports the similar performance metrics for both training and testing as on sklearn model. Usually, RMSE penalizes large errors, and other metrics do not penalize large errors."
   ]
  },
  {
   "cell_type": "code",
   "execution_count": 53,
   "id": "6852beca",
   "metadata": {},
   "outputs": [
    {
     "data": {
      "text/plain": [
       "const             0.0000\n",
       "LOT_SQFT          0.0000\n",
       "YR_BUILT          0.9105\n",
       "LIVING_AREA       0.0000\n",
       "FLOORS            0.0000\n",
       "ROOMS             0.0304\n",
       "BEDROOMS          0.8164\n",
       "FULL_BATH         0.0000\n",
       "HALF_BATH         0.0000\n",
       "KITCHEN           0.0000\n",
       "FIREPLACE         0.0000\n",
       "REMODEL_Old       0.0001\n",
       "REMODEL_Recent    0.0000\n",
       "dtype: float64"
      ]
     },
     "execution_count": 53,
     "metadata": {},
     "output_type": "execute_result"
    }
   ],
   "source": [
    "# print p-values for each predictor\n",
    "linear_model2.pvalues.round(4)"
   ]
  },
  {
   "cell_type": "code",
   "execution_count": 54,
   "id": "9b101c58",
   "metadata": {},
   "outputs": [],
   "source": [
    "# dropping the variables that are not significant (i.e., p>0.05)\n",
    "train_X = train_X.drop([\"YR_BUILT\",\"BEDROOMS\"], axis = 1)\n",
    "test_X = test_X.drop([\"YR_BUILT\",\"BEDROOMS\"], axis = 1)"
   ]
  },
  {
   "cell_type": "markdown",
   "id": "5ecb5655",
   "metadata": {},
   "source": [
    "- Dropping ‘YR_BUILT’ and ‘BEDROOMS’ predictors from the model.\n",
    "- The p-value of the ‘YR_BUILT’ and ‘BEDROOMS’ predictors are 0.9105 and 0.8164, respectively.\n",
    "- These p-values are greater than 0.05, which portrays as a least significant predictor to help with the target value and indicates a confidence level of less than 90%."
   ]
  },
  {
   "cell_type": "code",
   "execution_count": 55,
   "id": "b62aad2a",
   "metadata": {},
   "outputs": [
    {
     "data": {
      "text/plain": [
       "const             392.718539\n",
       "LOT_SQFT           23.821805\n",
       "LIVING_AREA        52.140918\n",
       "FLOORS             12.677210\n",
       "ROOMS               2.418821\n",
       "FULL_BATH           9.934721\n",
       "HALF_BATH          10.320736\n",
       "KITCHEN            -4.132159\n",
       "FIREPLACE          11.324488\n",
       "REMODEL_Old         2.720619\n",
       "REMODEL_Recent      9.772108\n",
       "dtype: float64"
      ]
     },
     "execution_count": 55,
     "metadata": {},
     "output_type": "execute_result"
    }
   ],
   "source": [
    "# training the new model and printing the performance metrics for training\n",
    "linear_model3 = sm.OLS(train_y, train_X).fit()\n",
    "linear_model3.params"
   ]
  },
  {
   "cell_type": "code",
   "execution_count": 56,
   "id": "6ccd1f92",
   "metadata": {},
   "outputs": [
    {
     "name": "stdout",
     "output_type": "stream",
     "text": [
      "\n",
      "Regression statistics\n",
      "\n",
      "                      Mean Error (ME) : -0.0000\n",
      "       Root Mean Squared Error (RMSE) : 44.0226\n",
      "            Mean Absolute Error (MAE) : 33.3690\n",
      "          Mean Percentage Error (MPE) : -1.1661\n",
      "Mean Absolute Percentage Error (MAPE) : 8.6991\n"
     ]
    }
   ],
   "source": [
    "# printing the performance metrics for training\n",
    "predicted_y_training3 = linear_model3.predict(train_X)\n",
    "regressionSummary(train_y, predicted_y_training3)"
   ]
  },
  {
   "cell_type": "code",
   "execution_count": 57,
   "id": "1a9235f2",
   "metadata": {},
   "outputs": [
    {
     "name": "stdout",
     "output_type": "stream",
     "text": [
      "\n",
      "Regression statistics\n",
      "\n",
      "                      Mean Error (ME) : 0.0310\n",
      "       Root Mean Squared Error (RMSE) : 44.8052\n",
      "            Mean Absolute Error (MAE) : 33.6777\n",
      "          Mean Percentage Error (MPE) : -1.3238\n",
      "Mean Absolute Percentage Error (MAPE) : 8.8400\n"
     ]
    }
   ],
   "source": [
    "# deploying the model on the test data, and printing the performance metrics for testing\n",
    "predicted_y_test3 = linear_model3.predict(test_X)\n",
    "regressionSummary(test_y, predicted_y_test3)"
   ]
  },
  {
   "cell_type": "markdown",
   "id": "4e11d750",
   "metadata": {},
   "source": [
    "- Even after dropping the least significant predictors, the performance metrics of the updated model match the performance of the preliminary model.\n",
    "- RMSE is concerned with deviations from the true value.\n",
    "- If the predicted and actual values differ, the value of RMSE is large.\n",
    "- Whereas the predicted and actual values are close, RMSE is small.\n",
    "- Similarly, all the performance metrics are compared with training and test data. For the given dataset, the model seems to be normal and can be implemented for the final assessment of total value of the property."
   ]
  }
 ],
 "metadata": {
  "kernelspec": {
   "display_name": "Python 3 (ipykernel)",
   "language": "python",
   "name": "python3"
  },
  "language_info": {
   "codemirror_mode": {
    "name": "ipython",
    "version": 3
   },
   "file_extension": ".py",
   "mimetype": "text/x-python",
   "name": "python",
   "nbconvert_exporter": "python",
   "pygments_lexer": "ipython3",
   "version": "3.9.12"
  }
 },
 "nbformat": 4,
 "nbformat_minor": 5
}
